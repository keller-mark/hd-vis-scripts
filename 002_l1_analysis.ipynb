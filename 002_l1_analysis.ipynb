{
 "cells": [
  {
   "cell_type": "code",
   "execution_count": 1,
   "id": "7b60f50a-93c1-4f19-b878-c2f04419d285",
   "metadata": {},
   "outputs": [],
   "source": [
    "from os.path import join\n",
    "import pandas as pd\n",
    "import numpy as np"
   ]
  },
  {
   "cell_type": "code",
   "execution_count": 2,
   "id": "ff314e4d-d847-4de6-8c53-10071a63cf7c",
   "metadata": {},
   "outputs": [],
   "source": [
    "queries_dir = join(\"data\", \"queries\")"
   ]
  },
  {
   "cell_type": "code",
   "execution_count": 3,
   "id": "23e4b053-ec37-42eb-8263-2ac750d5ba60",
   "metadata": {},
   "outputs": [],
   "source": [
    "counts_df = pd.read_csv(join(queries_dir, \"paper_counts.csv\"), index_col=0)"
   ]
  },
  {
   "cell_type": "code",
   "execution_count": 4,
   "id": "3ffc0f40-8f46-4670-baef-901bfcdf17a2",
   "metadata": {},
   "outputs": [],
   "source": [
    "cum_freq_df = pd.read_csv(join(queries_dir, \"cumulative_frequencies.csv\"), index_col=0)"
   ]
  },
  {
   "cell_type": "code",
   "execution_count": 5,
   "id": "a8d9bb64-d8b7-4a15-8e20-7e7a26397ffe",
   "metadata": {},
   "outputs": [],
   "source": [
    "l0_df = pd.read_csv(join(\"dr_algorithms_with_ids.csv\"), index_col=0)"
   ]
  },
  {
   "cell_type": "code",
   "execution_count": 6,
   "id": "d9d10a2d-15bc-4d52-b52b-9bbecdb0b15f",
   "metadata": {},
   "outputs": [],
   "source": [
    "l1_df = pd.read_csv(join(queries_dir, \"q06_get_l1_papers_fields.csv\"), index_col=0)"
   ]
  },
  {
   "cell_type": "code",
   "execution_count": 7,
   "id": "c77481bb-a12d-441b-b6ce-c74629a35e33",
   "metadata": {},
   "outputs": [],
   "source": [
    "corpus_id_to_method_acronym = dict(zip(l0_df[\"ss_corpus_id\"], l0_df[\"Acronym\"]))\n",
    "\n",
    "def get_method_acronym(row):\n",
    "    l0_corpus_id = row[\"cited_corpus_id\"]\n",
    "    return corpus_id_to_method_acronym[l0_corpus_id]"
   ]
  },
  {
   "cell_type": "code",
   "execution_count": 8,
   "id": "8185d9f5-1532-4f1d-a1ba-e3c91cc72238",
   "metadata": {},
   "outputs": [],
   "source": [
    "# Get the DR method acronym for papers which cite DR methods directly"
   ]
  },
  {
   "cell_type": "code",
   "execution_count": 9,
   "id": "57452860-8a50-4d54-9dfe-c535cd036ce2",
   "metadata": {},
   "outputs": [],
   "source": [
    "l1_df[\"method_acronym\"] = l1_df.apply(get_method_acronym, axis='columns')"
   ]
  },
  {
   "cell_type": "code",
   "execution_count": 10,
   "id": "4c4c6b93-ece9-423a-b697-5749cccd56fd",
   "metadata": {},
   "outputs": [],
   "source": [
    "cum_freq_mapping_df = cum_freq_df.set_index([\"source\", \"field\", \"year\", \"citation_count\"])\n",
    "\n",
    "def get_cp_in(row):\n",
    "    return cum_freq_mapping_df.at[(row[\"source\"], row[\"field\"], row[\"year\"], row[\"citation_count\"]), \"cp_in\"]\n",
    "def get_cp_ex(row):\n",
    "    return cum_freq_mapping_df.at[(row[\"source\"], row[\"field\"], row[\"year\"], row[\"citation_count\"]), \"cp_ex\"]"
   ]
  },
  {
   "cell_type": "code",
   "execution_count": 11,
   "id": "6d7e8ca0-43d3-4fc8-ae51-e0644ecde9db",
   "metadata": {},
   "outputs": [],
   "source": [
    "l1_df[\"cp_in\"] = l1_df.apply(get_cp_in, axis='columns')\n",
    "l1_df[\"cp_ex\"] = l1_df.apply(get_cp_ex, axis='columns')"
   ]
  },
  {
   "cell_type": "code",
   "execution_count": 12,
   "id": "bab9e5c2-e230-4943-aa10-550f43917936",
   "metadata": {},
   "outputs": [],
   "source": [
    "l1_df.to_csv(join(queries_dir, \"q06_get_l1_papers_fields_with_cp.csv\"))"
   ]
  },
  {
   "cell_type": "code",
   "execution_count": null,
   "id": "0773269b-9369-40f9-be70-edd3401fd2a9",
   "metadata": {},
   "outputs": [],
   "source": []
  }
 ],
 "metadata": {
  "kernelspec": {
   "display_name": "Python 3 (ipykernel)",
   "language": "python",
   "name": "python3"
  },
  "language_info": {
   "codemirror_mode": {
    "name": "ipython",
    "version": 3
   },
   "file_extension": ".py",
   "mimetype": "text/x-python",
   "name": "python",
   "nbconvert_exporter": "python",
   "pygments_lexer": "ipython3",
   "version": "3.11.7"
  }
 },
 "nbformat": 4,
 "nbformat_minor": 5
}
