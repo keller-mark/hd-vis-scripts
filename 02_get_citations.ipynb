{
 "cells": [
  {
   "cell_type": "code",
   "execution_count": 49,
   "id": "41ae6b56-d292-4dab-baa0-9def0c9bf2ad",
   "metadata": {},
   "outputs": [],
   "source": [
    "import pandas as pd\n",
    "import numpy as np\n",
    "from os.path import join\n",
    "import requests\n",
    "import sqlite3"
   ]
  },
  {
   "cell_type": "code",
   "execution_count": 50,
   "id": "17750b8e-978c-45f3-90c3-fac205d09873",
   "metadata": {},
   "outputs": [],
   "source": [
    "from peewee import SqliteDatabase\n",
    "from playhouse.reflection import generate_models, print_model, print_table_sql"
   ]
  },
  {
   "cell_type": "code",
   "execution_count": 51,
   "id": "b2055823-5fbc-4ad6-b910-7db2ba99bfc1",
   "metadata": {},
   "outputs": [],
   "source": [
    "connection = sqlite3.connect(\"star.db\")"
   ]
  },
  {
   "cell_type": "code",
   "execution_count": 52,
   "id": "6c5999b8-8e7b-43b6-927d-9e4925d8a1e4",
   "metadata": {},
   "outputs": [
    {
     "data": {
      "text/plain": [
       "<sqlite3.Cursor at 0x285d576c0>"
      ]
     },
     "execution_count": 52,
     "metadata": {},
     "output_type": "execute_result"
    }
   ],
   "source": [
    "cursor = connection.cursor()\n",
    "#cursor.execute(\"DROP TABLE papers\")\n",
    "#cursor.execute(\"DROP TABLE domain_paper_to_field\")\n",
    "#cursor.execute(\"DROP TABLE domain_paper_to_method\")\n",
    "cursor.execute(\"CREATE TABLE papers (ss_id TEXT, doi TEXT, title TEXT, year INTEGER, citation_count INTEGER, venue TEXT, is_domain INTEGER, is_method_primary INTEGER, is_method_secondary INTEGER, has_dr_vis INTEGER)\")\n",
    "cursor.execute(\"CREATE TABLE domain_paper_to_field (ss_id TEXT, field TEXT)\")\n",
    "cursor.execute(\"CREATE TABLE domain_paper_to_method (ss_id TEXT, method_acronym TEXT, method_ss_id TEXT)\")"
   ]
  },
  {
   "cell_type": "code",
   "execution_count": 53,
   "id": "d9d13059-197b-40fc-a3b8-4dacc36b68ea",
   "metadata": {
    "scrolled": true
   },
   "outputs": [],
   "source": [
    "db = SqliteDatabase('star.db')\n",
    "models = generate_models(db)\n",
    "\n",
    "globals().update({\n",
    "    \"Paper\": models['papers'],\n",
    "    \"DomainPaperToField\": models['domain_paper_to_field'],\n",
    "    \"DomainPaperToMethod\": models['domain_paper_to_method']\n",
    "})"
   ]
  },
  {
   "cell_type": "code",
   "execution_count": 54,
   "id": "5fab5d17-8f35-489b-9580-8eeceba4a3dc",
   "metadata": {},
   "outputs": [],
   "source": [
    "df = pd.read_csv(\"data/ss_id.csv\", index_col=0)"
   ]
  },
  {
   "cell_type": "code",
   "execution_count": 55,
   "id": "9d2818d0-f633-4c1e-8b3a-541706c7ae44",
   "metadata": {},
   "outputs": [
    {
     "data": {
      "text/html": [
       "<div>\n",
       "<style scoped>\n",
       "    .dataframe tbody tr th:only-of-type {\n",
       "        vertical-align: middle;\n",
       "    }\n",
       "\n",
       "    .dataframe tbody tr th {\n",
       "        vertical-align: top;\n",
       "    }\n",
       "\n",
       "    .dataframe thead th {\n",
       "        text-align: right;\n",
       "    }\n",
       "</style>\n",
       "<table border=\"1\" class=\"dataframe\">\n",
       "  <thead>\n",
       "    <tr style=\"text-align: right;\">\n",
       "      <th></th>\n",
       "      <th>Acronym</th>\n",
       "      <th>ss_id</th>\n",
       "    </tr>\n",
       "  </thead>\n",
       "  <tbody>\n",
       "    <tr>\n",
       "      <th>0</th>\n",
       "      <td>CCA</td>\n",
       "      <td>085049bec04020baecdb17bec196442a4abaedab</td>\n",
       "    </tr>\n",
       "    <tr>\n",
       "      <th>1</th>\n",
       "      <td>CHL</td>\n",
       "      <td>0f73d5a2669143d6fcbf4db0a4a9495bab115eb8</td>\n",
       "    </tr>\n",
       "    <tr>\n",
       "      <th>2</th>\n",
       "      <td>CLM</td>\n",
       "      <td>8d70b1981fc2947867a33f20256e88dc87fbb422</td>\n",
       "    </tr>\n",
       "    <tr>\n",
       "      <th>3</th>\n",
       "      <td>CuCA</td>\n",
       "      <td>bfb5410593385a279cc62844bd395f744dec2302</td>\n",
       "    </tr>\n",
       "    <tr>\n",
       "      <th>4</th>\n",
       "      <td>DM</td>\n",
       "      <td>60290252155782642d39145421ba924e78263553</td>\n",
       "    </tr>\n",
       "  </tbody>\n",
       "</table>\n",
       "</div>"
      ],
      "text/plain": [
       "  Acronym                                     ss_id\n",
       "0     CCA  085049bec04020baecdb17bec196442a4abaedab\n",
       "1     CHL  0f73d5a2669143d6fcbf4db0a4a9495bab115eb8\n",
       "2     CLM  8d70b1981fc2947867a33f20256e88dc87fbb422\n",
       "3    CuCA  bfb5410593385a279cc62844bd395f744dec2302\n",
       "4      DM  60290252155782642d39145421ba924e78263553"
      ]
     },
     "execution_count": 55,
     "metadata": {},
     "output_type": "execute_result"
    }
   ],
   "source": [
    "df = df[['Acronym', 'ss_id']].reset_index(drop=True)\n",
    "df.head()"
   ]
  },
  {
   "cell_type": "code",
   "execution_count": 56,
   "id": "6db2f4d6-5688-415e-8b57-9f82d8abf289",
   "metadata": {},
   "outputs": [],
   "source": [
    "def get_single_paper(paper_id):\n",
    "    fields = \"title,authors,year,fieldsOfStudy,s2FieldsOfStudy,venue,externalIds,citationCount\"\n",
    "    r_paper = requests.get(\n",
    "        f'https://api.semanticscholar.org/graph/v1/paper/{paper_id}?fields={fields}'\n",
    "    )\n",
    "    r_dict = r_paper.json()\n",
    "    return r_dict"
   ]
  },
  {
   "cell_type": "code",
   "execution_count": 57,
   "id": "d2070f2f-e3cd-42f7-bd18-162ca8e405d0",
   "metadata": {},
   "outputs": [],
   "source": [
    "def get_citing_papers(paper_id):\n",
    "    fields = \"title,authors,year,fieldsOfStudy,s2FieldsOfStudy,venue,externalIds,citationCount\"\n",
    "    limit = 1000\n",
    "    offset = 0\n",
    "    has_next = True\n",
    "    all_data = []\n",
    "    while has_next:\n",
    "        r_paper = requests.get(\n",
    "            f'https://api.semanticscholar.org/graph/v1/paper/{paper_id}/citations?fields={fields}&limit={limit}&offset={offset}'\n",
    "        )\n",
    "        r_dict = r_paper.json()\n",
    "        if \"data\" in r_dict:\n",
    "            all_data += r_dict[\"data\"]\n",
    "        if \"next\" in r_dict:\n",
    "            offset += limit\n",
    "            has_next = True\n",
    "        else:\n",
    "            has_next = False\n",
    "    return all_data"
   ]
  },
  {
   "cell_type": "code",
   "execution_count": 58,
   "id": "5bcdf15a-06b9-43ed-ba20-34801335f842",
   "metadata": {},
   "outputs": [
    {
     "data": {
      "text/plain": [
       "{'paperId': '0f73d5a2669143d6fcbf4db0a4a9495bab115eb8',\n",
       " 'externalIds': {'DBLP': 'conf/visualization/Chalmers96',\n",
       "  'MAG': '2145519405',\n",
       "  'DOI': '10.1109/VISUAL.1996.567787',\n",
       "  'CorpusId': 789498},\n",
       " 'title': 'A linear iteration time layout algorithm for visualising high-dimensional data',\n",
       " 'venue': \"Proceedings of Seventh Annual IEEE Visualization '96\",\n",
       " 'year': 1996,\n",
       " 'citationCount': 231,\n",
       " 'fieldsOfStudy': ['Computer Science'],\n",
       " 's2FieldsOfStudy': [{'category': 'Computer Science', 'source': 'external'},\n",
       "  {'category': 'Computer Science', 'source': 's2-fos-model'}],\n",
       " 'authors': [{'authorId': '144175654', 'name': 'M. Chalmers'}]}"
      ]
     },
     "execution_count": 58,
     "metadata": {},
     "output_type": "execute_result"
    }
   ],
   "source": [
    "get_single_paper('0f73d5a2669143d6fcbf4db0a4a9495bab115eb8')"
   ]
  },
  {
   "cell_type": "code",
   "execution_count": 59,
   "id": "ec4a07e8-f5aa-41a0-9cd3-f1a1d98f064b",
   "metadata": {},
   "outputs": [],
   "source": [
    "def get_doi(p_info):\n",
    "    return (None if ('externalIds' not in p_info or p_info['externalIds'] is None) else p_info['externalIds'].get('DOI', None))"
   ]
  },
  {
   "cell_type": "code",
   "execution_count": 60,
   "id": "e07cd5aa-12e9-4c7e-a008-8125abdf23d5",
   "metadata": {},
   "outputs": [],
   "source": [
    "def clean_field(field):\n",
    "    if field == \"Agricultural and Food Sciences\":\n",
    "        return 'Agricultural And Food Sciences'\n",
    "    return field"
   ]
  },
  {
   "cell_type": "code",
   "execution_count": 61,
   "id": "a4671c06-d038-47f1-8c5e-867c71cacaec",
   "metadata": {},
   "outputs": [],
   "source": [
    "for row_i, row in df.iterrows():\n",
    "    method_ss_id = row['ss_id']\n",
    "    method_acronym = row['Acronym']\n",
    "\n",
    "    method_info = get_single_paper(method_ss_id)\n",
    "    paper_obj = Paper(\n",
    "        ss_id=method_ss_id,\n",
    "        doi=get_doi(method_info),\n",
    "        title=method_info['title'],\n",
    "        year=(int(method_info['year']) if method_info['year'] is not None else None),\n",
    "        citation_count=method_info['citationCount'],\n",
    "        venue=method_info['venue'],\n",
    "        is_domain=0,\n",
    "        is_method_primary=1,\n",
    "        is_method_secondary=0,\n",
    "        has_dr_vis=0\n",
    "    )\n",
    "    paper_obj.save()\n",
    "\n",
    "    citing_papers = get_citing_papers(method_ss_id)\n",
    "    for citing_paper_dict in citing_papers:\n",
    "        cp_info = citing_paper_dict[\"citingPaper\"]\n",
    "        fields = cp_info[\"fieldsOfStudy\"]\n",
    "        s2_fields = cp_info[\"s2FieldsOfStudy\"]\n",
    "        if fields is None and s2_fields is not None:\n",
    "            fields = [ d[\"category\"] for d in s2_fields ]\n",
    "        year = cp_info[\"year\"]\n",
    "        if year is not None and year >= 2013:\n",
    "            is_domain = fields is not None and not set(fields).issubset({ \"Computer Science\", \"Mathematics\", \"Engineering\" })\n",
    "            paper_obj = Paper(\n",
    "                ss_id=cp_info['paperId'],\n",
    "                doi=get_doi(cp_info),\n",
    "                title=cp_info['title'],\n",
    "                year=int(cp_info['year']),\n",
    "                citation_count=cp_info['citationCount'],\n",
    "                venue=cp_info['venue'],\n",
    "                is_domain=(1 if is_domain else 0),\n",
    "                is_method_primary=0,\n",
    "                is_method_secondary=0,\n",
    "                has_dr_vis=0\n",
    "            )\n",
    "            paper_obj.save()\n",
    "    \n",
    "            if is_domain:\n",
    "                for field in fields:\n",
    "                    dptf_obj = DomainPaperToField(\n",
    "                        ss_id=cp_info['paperId'],\n",
    "                        field=clean_field(field),\n",
    "                    )\n",
    "                    dptf_obj.save()\n",
    "    \n",
    "                dptm_obj = DomainPaperToMethod(\n",
    "                    ss_id=cp_info['paperId'],\n",
    "                    method_acronym=method_acronym,\n",
    "                    method_ss_id=method_ss_id,\n",
    "                )\n",
    "                dptm_obj.save()"
   ]
  },
  {
   "cell_type": "code",
   "execution_count": null,
   "id": "062a1de3-14d0-4a1f-8f0a-1ebd767e03b4",
   "metadata": {},
   "outputs": [],
   "source": []
  }
 ],
 "metadata": {
  "kernelspec": {
   "display_name": "Python 3 (ipykernel)",
   "language": "python",
   "name": "python3"
  },
  "language_info": {
   "codemirror_mode": {
    "name": "ipython",
    "version": 3
   },
   "file_extension": ".py",
   "mimetype": "text/x-python",
   "name": "python",
   "nbconvert_exporter": "python",
   "pygments_lexer": "ipython3",
   "version": "3.11.6"
  }
 },
 "nbformat": 4,
 "nbformat_minor": 5
}
