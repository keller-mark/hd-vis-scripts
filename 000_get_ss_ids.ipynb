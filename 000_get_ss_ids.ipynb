{
 "cells": [
  {
   "cell_type": "code",
   "execution_count": 113,
   "id": "d56fe130-e7f7-4656-8776-38b142a517dd",
   "metadata": {},
   "outputs": [],
   "source": [
    "import pandas as pd\n",
    "import numpy as np\n",
    "from os.path import join\n",
    "import requests"
   ]
  },
  {
   "cell_type": "code",
   "execution_count": 114,
   "id": "fc3721ea-ed4a-4202-8f8d-1dbb4479b24b",
   "metadata": {},
   "outputs": [],
   "source": [
    "df = pd.read_csv(\"data/dr_algorithms-2.csv\")"
   ]
  },
  {
   "cell_type": "code",
   "execution_count": 115,
   "id": "ff01a0eb-c39f-4dd8-a009-0959cb9025b4",
   "metadata": {},
   "outputs": [],
   "source": [
    "doi_col_1 = 'DOI or ISBN for method'\n",
    "doi_col_2 = 'Secondary DOI'\n",
    "doi_col_3 = 'Tertiary DOI'\n",
    "\n",
    "single_doi_col = 'Single DOI'\n",
    "single_ssid_col = 'Single Semantic Scholar ID'\n",
    "single_wos_col = 'Single WOS UT'\n",
    "\n",
    "isbn_col = 'ISBN'\n",
    "ss_col = 'Semantic Scholar ID'\n",
    "\n",
    "title_col = 'Title of method'\n",
    "year_col = 'Year of method'\n",
    "author_col = 'Authors of method'"
   ]
  },
  {
   "cell_type": "code",
   "execution_count": 116,
   "id": "25a66277-f847-45ed-b75f-03fe8ba977de",
   "metadata": {},
   "outputs": [],
   "source": [
    "df['Exclude'] = df['Notes'].apply(lambda val: \"exclude\" in str(val).lower())\n",
    "df = df.loc[~df['Exclude']]"
   ]
  },
  {
   "cell_type": "code",
   "execution_count": 117,
   "id": "c2846d03-658b-4286-90b1-c45d8eba369b",
   "metadata": {},
   "outputs": [
    {
     "data": {
      "text/plain": [
       "['Acronym',\n",
       " 'Name',\n",
       " 'DOI or ISBN for method',\n",
       " 'Secondary DOI',\n",
       " 'Tertiary DOI',\n",
       " 'Semantic Scholar ID',\n",
       " 'Single DOI',\n",
       " 'Single Semantic Scholar ID',\n",
       " 'Single WOS UT',\n",
       " 'ISBN',\n",
       " 'Notes',\n",
       " 'Caveats',\n",
       " 'WOS not found',\n",
       " 'Authors of method',\n",
       " 'Title of method',\n",
       " 'Year of method',\n",
       " 'Citation count for method',\n",
       " 'Source',\n",
       " 'Exclude']"
      ]
     },
     "execution_count": 117,
     "metadata": {},
     "output_type": "execute_result"
    }
   ],
   "source": [
    "df.columns.tolist()"
   ]
  },
  {
   "cell_type": "code",
   "execution_count": 118,
   "id": "121d904e-37c3-44f1-938e-84cfd6fddaad",
   "metadata": {},
   "outputs": [],
   "source": [
    "def get_ss_query_val(row):\n",
    "    doi_val = row[single_doi_col]\n",
    "    ssid_val = row[single_ssid_col]\n",
    "\n",
    "    if pd.notna(ssid_val):\n",
    "        return ssid_val\n",
    "    if pd.notna(doi_val):\n",
    "        return f\"DOI:{doi_val}\"\n",
    "    return np.nan"
   ]
  },
  {
   "cell_type": "code",
   "execution_count": 119,
   "id": "19229cd5-3fa0-4f97-9268-860fb0749f7a",
   "metadata": {},
   "outputs": [],
   "source": [
    "df['ss_query_val'] = df.apply(get_ss_query_val, axis='columns')"
   ]
  },
  {
   "cell_type": "code",
   "execution_count": 120,
   "id": "bc86d97f-f73f-4e8b-acc0-9ff77ff9417f",
   "metadata": {},
   "outputs": [],
   "source": [
    "def get_wos_query_val(row):\n",
    "    doi_val = row[single_doi_col]\n",
    "    wos_val = row[single_wos_col]\n",
    "\n",
    "    if pd.notna(wos_val):\n",
    "        return f\"UT={wos_val}\"\n",
    "    if pd.notna(doi_val):\n",
    "        return f\"DO={doi_val}\"\n",
    "    return np.nan"
   ]
  },
  {
   "cell_type": "code",
   "execution_count": 121,
   "id": "b31ba058-ce8e-4c80-8239-ad22d4e5db59",
   "metadata": {},
   "outputs": [],
   "source": [
    "df['wos_query_val'] = df.apply(get_wos_query_val, axis='columns')"
   ]
  },
  {
   "cell_type": "code",
   "execution_count": 122,
   "id": "4d9cbfd2-0dbc-4be9-a0c1-f2a0713eca8c",
   "metadata": {},
   "outputs": [],
   "source": [
    "df = df.reset_index(drop=True)"
   ]
  },
  {
   "cell_type": "code",
   "execution_count": 123,
   "id": "1f1ecf31-0b45-464e-a4d5-96a9a9d715a3",
   "metadata": {},
   "outputs": [
    {
     "data": {
      "text/plain": [
       "['02552a8b40f3a82a5353f596264db71d899a9b4a',\n",
       " 'DOI:10.1037/0033-2909.85.2.410',\n",
       " 'DOI:10.1109/VISUAL.1996.567787',\n",
       " 'DOI:10.1142/S0218001415510088',\n",
       " 'DOI:10.1109/72.554199',\n",
       " 'DOI:10.1016/j.acha.2006.04.006',\n",
       " 'DOI:10.1016/j.physrep.2004.03.006',\n",
       " 'DOI:10.2307/1412107',\n",
       " 'DOI:10.1057/palgrave.ivs.9500054',\n",
       " 'd86648cb3ec497347d6e918116003b0e42910694',\n",
       " 'DOI:10.1162/089976600300014980',\n",
       " '9193b90a944ecf4ceb3432e35caf3d391830a4b0',\n",
       " 'DOI:10.1162/089976698300017953',\n",
       " 'DOI:10.1016/0165-1684(91)90079-X',\n",
       " 'DOI:10.1109/ISCAS.1999.777510',\n",
       " 'DOI:10.1017/CBO9780511624148.005',\n",
       " 'DOI:10.1117/12.650880',\n",
       " 'DOI:10.1126/science.290.5500.2319',\n",
       " 'DOI:10.1109/IGARSS.2006.144',\n",
       " 'DOI:10.1109/TPAMI.2009.100',\n",
       " 'DOI:10.1109/TVCG.2015.2464797',\n",
       " 'DOI:10.1109/TVCG.2011.220',\n",
       " 'DOI:10.1111/j.1469-1809.1936.tb02137.x',\n",
       " '9d16c547d15a08091e68c86a99731b14366e3f0d',\n",
       " 'a0ac8c6271b4b10dcee2a0aa68f5284ee4b306df',\n",
       " 'DOI:10.1126/science.290.5500.2323',\n",
       " 'DOI:10.1073/pnas.1031596100',\n",
       " '0b060fdbd92cbcc66b383bcaa9ba5e5e624d7ee3',\n",
       " '78947497cbbffc691aac3f590d972130259af9ce',\n",
       " 'DOI:10.1016/j.neucom.2014.07.071',\n",
       " '75335244b49f4d1bb27aa51f1690bbefbbe1c3d1',\n",
       " 'DOI:10.1109/TVCG.2007.70443',\n",
       " '21c9879f0b9adb692d8ddbebf7e8e22dbe20e2de',\n",
       " 'DOI:10.1016/j.neucom.2006.11.007',\n",
       " 'c291edf0bb5ead2e45ee9fefb1683e2438158121',\n",
       " '61cea480c7943eefe32be4f3694dc6fbe2805138',\n",
       " 'd1f66ecdb910b103659f464cb39a0146789d99f8',\n",
       " 'f12b78a7e44a9bb53aa40736c744dbdb1510f2cb',\n",
       " '1ac1072e320d0e5774006eaab0d636aa97ef58a5',\n",
       " 'DOI:10.1002/nla.475',\n",
       " 'DOI:10.1007/BF02289565',\n",
       " '2ff87fef3fc79b5bb47f2783e5b28084ef6b83c4',\n",
       " '68ea25f9ad546b05d596b965180521040991970a',\n",
       " '8381c212e081c319e17c65a2138d46ba5f91cd90',\n",
       " '8fa964d55aa8c15d0f3055849c91d4c7293fdba1',\n",
       " '29bae9472203546847ec1352a604566d0f602728',\n",
       " 'DOI:10.1109/IV.2006.104',\n",
       " '48cc2d0477a40d9f9c2f7331888e8a881b0f7a80',\n",
       " 'DOI:10.1080/14786440109462720',\n",
       " 'DOI:10.1007/s11263-007-0075-7',\n",
       " '1ad15c08556c8f8e3739703857ea01077ce738c5',\n",
       " 'DOI:10.1109/T-C.1971.223208',\n",
       " 'DOI:10.1002/aic.690370209',\n",
       " '9c1e8ad4b51e69d2ce8cd20fb4988974269453da',\n",
       " 'DOI:10.1109/CVPR.2005.309',\n",
       " 'DOI:10.1198/106186006X113430',\n",
       " 'DOI:10.1109/TVCG.2010.207',\n",
       " 'DOI:10.1111/j.1467-8659.2011.01958.x',\n",
       " 'DOI:10.1214/aos/1176349519',\n",
       " 'DOI:10.1109/PacificVis.2014.59',\n",
       " 'DOI:10.1007/BF00203171',\n",
       " '549ca001fa8559f9e37ea55058f1faf4fc6f0376',\n",
       " '549ca001fa8559f9e37ea55058f1faf4fc6f0376',\n",
       " 'DOI:10.1109/T-C.1969.222678',\n",
       " '4919a7c2e42efa701d674917e00b19dc951561e5',\n",
       " 'DOI:10.1098/rsta.2009.0110',\n",
       " 'DOI:10.1162/089976602317318938',\n",
       " '45e288d93a674b10009ff0be9b7848b8d22493c8',\n",
       " '14d46c6396837986bb4b9a14024cb64797b8c6c0',\n",
       " '1c46943103bd7b7a2c7be86859995a4144d1938b',\n",
       " 'DOI:10.1007/BF00203171',\n",
       " 'DOI:10.1109/72.977314',\n",
       " 'DOI:10.1002/jcc.10234',\n",
       " 'DOI:10.1137/0718026',\n",
       " 'eb05b0f84ffbfa6c14ff58d6f4d062a93a346d03',\n",
       " 'c5b28cae82b14417f1250e58bb241367248e827d',\n",
       " '3a288c63576fc385910cb5bc44eaea75b442e62e',\n",
       " 'DOI:10.1109/ICNN.1993.298730']"
      ]
     },
     "execution_count": 123,
     "metadata": {},
     "output_type": "execute_result"
    }
   ],
   "source": [
    "paper_query_vals = df['ss_query_val'].tolist()\n",
    "paper_query_vals"
   ]
  },
  {
   "cell_type": "code",
   "execution_count": 124,
   "id": "73ce3817-326d-4f33-9c71-a3c330c4e11a",
   "metadata": {},
   "outputs": [],
   "source": [
    "r_ids = requests.post(\n",
    "    'https://api.semanticscholar.org/graph/v1/paper/batch',\n",
    "    params={'fields': 'citationCount,title,corpusId'},\n",
    "    json={\"ids\": paper_query_vals}\n",
    ")"
   ]
  },
  {
   "cell_type": "code",
   "execution_count": 125,
   "id": "ac33d185-1dcf-4c55-9bf0-83429aa098dc",
   "metadata": {},
   "outputs": [],
   "source": [
    "response_vals = r_ids.json()"
   ]
  },
  {
   "cell_type": "code",
   "execution_count": 126,
   "id": "fc97fbe3-9337-4077-b7f9-d04dc7b711d1",
   "metadata": {},
   "outputs": [],
   "source": [
    "for i, r_val in enumerate(response_vals):\n",
    "    if r_val is not None:\n",
    "        df.at[i, 'ss_id'] = r_val['paperId']\n",
    "        df.at[i, 'ss_corpus_id'] = r_val['corpusId']"
   ]
  },
  {
   "cell_type": "code",
   "execution_count": 128,
   "id": "cb7697f3-c961-4f48-8889-79bf0b18a7f7",
   "metadata": {},
   "outputs": [
    {
     "data": {
      "text/html": [
       "<div>\n",
       "<style scoped>\n",
       "    .dataframe tbody tr th:only-of-type {\n",
       "        vertical-align: middle;\n",
       "    }\n",
       "\n",
       "    .dataframe tbody tr th {\n",
       "        vertical-align: top;\n",
       "    }\n",
       "\n",
       "    .dataframe thead th {\n",
       "        text-align: right;\n",
       "    }\n",
       "</style>\n",
       "<table border=\"1\" class=\"dataframe\">\n",
       "  <thead>\n",
       "    <tr style=\"text-align: right;\">\n",
       "      <th></th>\n",
       "      <th>Acronym</th>\n",
       "      <th>Name</th>\n",
       "      <th>DOI or ISBN for method</th>\n",
       "      <th>Secondary DOI</th>\n",
       "      <th>Tertiary DOI</th>\n",
       "      <th>Semantic Scholar ID</th>\n",
       "      <th>Single DOI</th>\n",
       "      <th>Single Semantic Scholar ID</th>\n",
       "      <th>Single WOS UT</th>\n",
       "      <th>ISBN</th>\n",
       "      <th>...</th>\n",
       "      <th>Authors of method</th>\n",
       "      <th>Title of method</th>\n",
       "      <th>Year of method</th>\n",
       "      <th>Citation count for method</th>\n",
       "      <th>Source</th>\n",
       "      <th>Exclude</th>\n",
       "      <th>ss_query_val</th>\n",
       "      <th>wos_query_val</th>\n",
       "      <th>ss_id</th>\n",
       "      <th>ss_corpus_id</th>\n",
       "    </tr>\n",
       "  </thead>\n",
       "  <tbody>\n",
       "  </tbody>\n",
       "</table>\n",
       "<p>0 rows × 23 columns</p>\n",
       "</div>"
      ],
      "text/plain": [
       "Empty DataFrame\n",
       "Columns: [Acronym, Name, DOI or ISBN for method, Secondary DOI, Tertiary DOI, Semantic Scholar ID, Single DOI, Single Semantic Scholar ID, Single WOS UT, ISBN, Notes, Caveats, WOS not found, Authors of method, Title of method, Year of method, Citation count for method, Source, Exclude, ss_query_val, wos_query_val, ss_id, ss_corpus_id]\n",
       "Index: []\n",
       "\n",
       "[0 rows x 23 columns]"
      ]
     },
     "execution_count": 128,
     "metadata": {},
     "output_type": "execute_result"
    }
   ],
   "source": [
    "df.loc[df['ss_corpus_id'].isna()]"
   ]
  },
  {
   "cell_type": "code",
   "execution_count": 132,
   "id": "dd002a92-273a-49c0-b240-0088768baa1c",
   "metadata": {},
   "outputs": [],
   "source": [
    "df['ss_corpus_id'] = df['ss_corpus_id'].astype(int).astype(str)"
   ]
  },
  {
   "cell_type": "code",
   "execution_count": 133,
   "id": "bf569034-df52-4d1c-ae96-7b70079087c8",
   "metadata": {},
   "outputs": [],
   "source": [
    "df.to_csv('data/dr_algorithms_with_ids.csv')"
   ]
  },
  {
   "cell_type": "code",
   "execution_count": 134,
   "id": "fff42938-62d2-4af9-985e-c84e64c71bf9",
   "metadata": {},
   "outputs": [
    {
     "data": {
      "text/html": [
       "<div>\n",
       "<style scoped>\n",
       "    .dataframe tbody tr th:only-of-type {\n",
       "        vertical-align: middle;\n",
       "    }\n",
       "\n",
       "    .dataframe tbody tr th {\n",
       "        vertical-align: top;\n",
       "    }\n",
       "\n",
       "    .dataframe thead th {\n",
       "        text-align: right;\n",
       "    }\n",
       "</style>\n",
       "<table border=\"1\" class=\"dataframe\">\n",
       "  <thead>\n",
       "    <tr style=\"text-align: right;\">\n",
       "      <th></th>\n",
       "      <th>Acronym</th>\n",
       "      <th>Name</th>\n",
       "      <th>DOI or ISBN for method</th>\n",
       "      <th>Secondary DOI</th>\n",
       "      <th>Tertiary DOI</th>\n",
       "      <th>Semantic Scholar ID</th>\n",
       "      <th>Single DOI</th>\n",
       "      <th>Single Semantic Scholar ID</th>\n",
       "      <th>Single WOS UT</th>\n",
       "      <th>ISBN</th>\n",
       "      <th>...</th>\n",
       "      <th>Authors of method</th>\n",
       "      <th>Title of method</th>\n",
       "      <th>Year of method</th>\n",
       "      <th>Citation count for method</th>\n",
       "      <th>Source</th>\n",
       "      <th>Exclude</th>\n",
       "      <th>ss_query_val</th>\n",
       "      <th>wos_query_val</th>\n",
       "      <th>ss_id</th>\n",
       "      <th>ss_corpus_id</th>\n",
       "    </tr>\n",
       "  </thead>\n",
       "  <tbody>\n",
       "    <tr>\n",
       "      <th>0</th>\n",
       "      <td>AE</td>\n",
       "      <td>Autoencoder</td>\n",
       "      <td>10.1126/science.1127647</td>\n",
       "      <td>NaN</td>\n",
       "      <td>NaN</td>\n",
       "      <td>02552a8b40f3a82a5353f596264db71d899a9b4a</td>\n",
       "      <td>10.1126/science.1127647</td>\n",
       "      <td>02552a8b40f3a82a5353f596264db71d899a9b4a</td>\n",
       "      <td>NaN</td>\n",
       "      <td>NaN</td>\n",
       "      <td>...</td>\n",
       "      <td>NaN</td>\n",
       "      <td>NaN</td>\n",
       "      <td>NaN</td>\n",
       "      <td>NaN</td>\n",
       "      <td>Espadoto et al.</td>\n",
       "      <td>False</td>\n",
       "      <td>02552a8b40f3a82a5353f596264db71d899a9b4a</td>\n",
       "      <td>DO=10.1126/science.1127647</td>\n",
       "      <td>02552a8b40f3a82a5353f596264db71d899a9b4a</td>\n",
       "      <td>262637400</td>\n",
       "    </tr>\n",
       "    <tr>\n",
       "      <th>1</th>\n",
       "      <td>CCA</td>\n",
       "      <td>Canonical correlation analysis</td>\n",
       "      <td>10.1037/0033-2909.85.2.410</td>\n",
       "      <td>NaN</td>\n",
       "      <td>NaN</td>\n",
       "      <td>NaN</td>\n",
       "      <td>10.1037/0033-2909.85.2.410</td>\n",
       "      <td>NaN</td>\n",
       "      <td>NaN</td>\n",
       "      <td>NaN</td>\n",
       "      <td>...</td>\n",
       "      <td>NaN</td>\n",
       "      <td>NaN</td>\n",
       "      <td>NaN</td>\n",
       "      <td>NaN</td>\n",
       "      <td>Espadoto et al.</td>\n",
       "      <td>False</td>\n",
       "      <td>DOI:10.1037/0033-2909.85.2.410</td>\n",
       "      <td>DO=10.1037/0033-2909.85.2.410</td>\n",
       "      <td>085049bec04020baecdb17bec196442a4abaedab</td>\n",
       "      <td>144661565</td>\n",
       "    </tr>\n",
       "    <tr>\n",
       "      <th>2</th>\n",
       "      <td>CHL</td>\n",
       "      <td>Chalmers</td>\n",
       "      <td>10.1109/VISUAL.1996.567787</td>\n",
       "      <td>NaN</td>\n",
       "      <td>NaN</td>\n",
       "      <td>NaN</td>\n",
       "      <td>10.1109/VISUAL.1996.567787</td>\n",
       "      <td>NaN</td>\n",
       "      <td>NaN</td>\n",
       "      <td>NaN</td>\n",
       "      <td>...</td>\n",
       "      <td>NaN</td>\n",
       "      <td>NaN</td>\n",
       "      <td>NaN</td>\n",
       "      <td>NaN</td>\n",
       "      <td>Espadoto et al.</td>\n",
       "      <td>False</td>\n",
       "      <td>DOI:10.1109/VISUAL.1996.567787</td>\n",
       "      <td>DO=10.1109/VISUAL.1996.567787</td>\n",
       "      <td>0f73d5a2669143d6fcbf4db0a4a9495bab115eb8</td>\n",
       "      <td>789498</td>\n",
       "    </tr>\n",
       "    <tr>\n",
       "      <th>3</th>\n",
       "      <td>CLM</td>\n",
       "      <td>ClassiMap</td>\n",
       "      <td>10.1142/S0218001415510088</td>\n",
       "      <td>NaN</td>\n",
       "      <td>NaN</td>\n",
       "      <td>NaN</td>\n",
       "      <td>10.1142/S0218001415510088</td>\n",
       "      <td>NaN</td>\n",
       "      <td>NaN</td>\n",
       "      <td>NaN</td>\n",
       "      <td>...</td>\n",
       "      <td>NaN</td>\n",
       "      <td>NaN</td>\n",
       "      <td>NaN</td>\n",
       "      <td>NaN</td>\n",
       "      <td>Espadoto et al.</td>\n",
       "      <td>False</td>\n",
       "      <td>DOI:10.1142/S0218001415510088</td>\n",
       "      <td>DO=10.1142/S0218001415510088</td>\n",
       "      <td>8d70b1981fc2947867a33f20256e88dc87fbb422</td>\n",
       "      <td>44333344</td>\n",
       "    </tr>\n",
       "    <tr>\n",
       "      <th>4</th>\n",
       "      <td>CuCA</td>\n",
       "      <td>Curvilinear component analysis</td>\n",
       "      <td>10.1109/72.554199</td>\n",
       "      <td>NaN</td>\n",
       "      <td>NaN</td>\n",
       "      <td>NaN</td>\n",
       "      <td>10.1109/72.554199</td>\n",
       "      <td>NaN</td>\n",
       "      <td>NaN</td>\n",
       "      <td>NaN</td>\n",
       "      <td>...</td>\n",
       "      <td>NaN</td>\n",
       "      <td>NaN</td>\n",
       "      <td>NaN</td>\n",
       "      <td>NaN</td>\n",
       "      <td>Espadoto et al.</td>\n",
       "      <td>False</td>\n",
       "      <td>DOI:10.1109/72.554199</td>\n",
       "      <td>DO=10.1109/72.554199</td>\n",
       "      <td>bfb5410593385a279cc62844bd395f744dec2302</td>\n",
       "      <td>6520113</td>\n",
       "    </tr>\n",
       "  </tbody>\n",
       "</table>\n",
       "<p>5 rows × 23 columns</p>\n",
       "</div>"
      ],
      "text/plain": [
       "  Acronym                            Name      DOI or ISBN for method  \\\n",
       "0      AE                     Autoencoder     10.1126/science.1127647   \n",
       "1     CCA  Canonical correlation analysis  10.1037/0033-2909.85.2.410   \n",
       "2     CHL                        Chalmers  10.1109/VISUAL.1996.567787   \n",
       "3     CLM                       ClassiMap   10.1142/S0218001415510088   \n",
       "4    CuCA  Curvilinear component analysis           10.1109/72.554199   \n",
       "\n",
       "  Secondary DOI Tertiary DOI                       Semantic Scholar ID  \\\n",
       "0           NaN          NaN  02552a8b40f3a82a5353f596264db71d899a9b4a   \n",
       "1           NaN          NaN                                       NaN   \n",
       "2           NaN          NaN                                       NaN   \n",
       "3           NaN          NaN                                       NaN   \n",
       "4           NaN          NaN                                       NaN   \n",
       "\n",
       "                   Single DOI                Single Semantic Scholar ID  \\\n",
       "0     10.1126/science.1127647  02552a8b40f3a82a5353f596264db71d899a9b4a   \n",
       "1  10.1037/0033-2909.85.2.410                                       NaN   \n",
       "2  10.1109/VISUAL.1996.567787                                       NaN   \n",
       "3   10.1142/S0218001415510088                                       NaN   \n",
       "4           10.1109/72.554199                                       NaN   \n",
       "\n",
       "  Single WOS UT ISBN  ... Authors of method Title of method Year of method  \\\n",
       "0           NaN  NaN  ...               NaN             NaN            NaN   \n",
       "1           NaN  NaN  ...               NaN             NaN            NaN   \n",
       "2           NaN  NaN  ...               NaN             NaN            NaN   \n",
       "3           NaN  NaN  ...               NaN             NaN            NaN   \n",
       "4           NaN  NaN  ...               NaN             NaN            NaN   \n",
       "\n",
       "  Citation count for method           Source  Exclude  \\\n",
       "0                       NaN  Espadoto et al.    False   \n",
       "1                       NaN  Espadoto et al.    False   \n",
       "2                       NaN  Espadoto et al.    False   \n",
       "3                       NaN  Espadoto et al.    False   \n",
       "4                       NaN  Espadoto et al.    False   \n",
       "\n",
       "                               ss_query_val                  wos_query_val  \\\n",
       "0  02552a8b40f3a82a5353f596264db71d899a9b4a     DO=10.1126/science.1127647   \n",
       "1            DOI:10.1037/0033-2909.85.2.410  DO=10.1037/0033-2909.85.2.410   \n",
       "2            DOI:10.1109/VISUAL.1996.567787  DO=10.1109/VISUAL.1996.567787   \n",
       "3             DOI:10.1142/S0218001415510088   DO=10.1142/S0218001415510088   \n",
       "4                     DOI:10.1109/72.554199           DO=10.1109/72.554199   \n",
       "\n",
       "                                      ss_id ss_corpus_id  \n",
       "0  02552a8b40f3a82a5353f596264db71d899a9b4a    262637400  \n",
       "1  085049bec04020baecdb17bec196442a4abaedab    144661565  \n",
       "2  0f73d5a2669143d6fcbf4db0a4a9495bab115eb8       789498  \n",
       "3  8d70b1981fc2947867a33f20256e88dc87fbb422     44333344  \n",
       "4  bfb5410593385a279cc62844bd395f744dec2302      6520113  \n",
       "\n",
       "[5 rows x 23 columns]"
      ]
     },
     "execution_count": 134,
     "metadata": {},
     "output_type": "execute_result"
    }
   ],
   "source": [
    "df.head()"
   ]
  },
  {
   "cell_type": "code",
   "execution_count": 135,
   "id": "f36859c5-9eaf-4a17-8fd2-7486169f7b6d",
   "metadata": {},
   "outputs": [],
   "source": [
    "wos_query_vals = df['wos_query_val'].tolist()"
   ]
  },
  {
   "cell_type": "code",
   "execution_count": 136,
   "id": "88236477-dffe-4a2f-98b8-0d6e4f9926df",
   "metadata": {},
   "outputs": [
    {
     "data": {
      "text/plain": [
       "'DO=10.1126/science.1127647 OR DO=10.1037/0033-2909.85.2.410 OR DO=10.1109/VISUAL.1996.567787 OR DO=10.1142/S0218001415510088 OR DO=10.1109/72.554199 OR DO=10.1016/j.acha.2006.04.006 OR DO=10.1016/j.physrep.2004.03.006 OR DO=10.2307/1412107 OR DO=10.1057/palgrave.ivs.9500054 OR DO=10.1145/568271.223812 OR DO=10.1162/089976600300014980 OR UT=WOS:000225309500042 OR DO=10.1162/089976698300017953 OR DO=10.1016/0165-1684(91)90079-X OR DO=10.1109/ISCAS.1999.777510 OR DO=10.1017/CBO9780511624148.005 OR DO=10.1117/12.650880 OR DO=10.1126/science.290.5500.2319 OR DO=10.1109/IGARSS.2006.144 OR DO=10.1109/TPAMI.2009.100 OR DO=10.1109/TVCG.2015.2464797 OR DO=10.1109/TVCG.2011.220 OR DO=10.1111/j.1469-1809.1936.tb02137.x OR UT=WOS:000180520100073 OR DO=10.1126/science.290.5500.2323 OR DO=10.1073/pnas.1031596100 OR UT=WOS:000270824200005 OR DO=10.1016/j.neucom.2014.07.071 OR UT=WOS:000225309500020 OR DO=10.1109/TVCG.2007.70443 OR DO=10.1007/S11741-004-0051-1 OR DO=10.1016/j.neucom.2006.11.007 OR DO=10.1007/BF02288916 OR DO=10.1002/nla.475 OR DO=10.1007/BF02289565 OR DO=10.1145/1015330.1015345 OR DO=10.1145/1756006.1756019 OR DO=10.1038/44565 OR DO=10.1109/IV.2006.104 OR DO=10.1080/01621459.1989.10478797 OR DO=10.1080/14786440109462720 OR DO=10.1007/s11263-007-0075-7 OR DO=10.1162/089976698300017467 OR DO=10.1109/T-C.1971.223208 OR DO=10.1002/aic.690370209 OR DO=10.1111/1467-9868.00196 OR DO=10.1109/CVPR.2005.309 OR DO=10.1198/106186006X113430 OR DO=10.1109/TVCG.2010.207 OR DO=10.1111/j.1467-8659.2011.01958.x OR DO=10.1214/aos/1176349519 OR DO=10.1109/PacificVis.2014.59 OR DO=10.1007/BF00203171 OR DO=10.1109/T-C.1969.222678 OR DO=10.1098/rsta.2009.0110 OR DO=10.1162/089976602317318938 OR UT=WOS:000262637600007 OR DO=10.1007/BF00203171 OR DO=10.1109/72.977314 OR DO=10.1002/jcc.10234 OR DO=10.1137/0718026 OR DO=10.48550/arXiv.0909.4061 OR UT=WOS:A1994NY54800004 OR DO=10.48550/arXiv.1802.03426 OR DO=10.1109/ICNN.1993.298730'"
      ]
     },
     "execution_count": 136,
     "metadata": {},
     "output_type": "execute_result"
    }
   ],
   "source": [
    "\" OR \".join([v for v in wos_query_vals if pd.notna(v)])"
   ]
  },
  {
   "cell_type": "code",
   "execution_count": 137,
   "id": "9e9fd440-419e-40a7-8b0d-6d529af414db",
   "metadata": {},
   "outputs": [],
   "source": [
    "# TODO: use above string to perform Advanced query on WOS website.\n",
    "# Then, add all results to a new \"Marked List\".\n",
    "# Then, download the Marked List as an excel file containing the WOS: identifiers for each paper.\n",
    "# Join these IDs back into the table of identifiers.\n",
    "# Check which references were not found in Web of Science. For example, UMAP will not be found because it is a Preprint so it is not included in the WOS \"core collection\"."
   ]
  },
  {
   "cell_type": "code",
   "execution_count": null,
   "id": "15281965-61d1-4904-951f-9530f88c25df",
   "metadata": {},
   "outputs": [],
   "source": []
  }
 ],
 "metadata": {
  "kernelspec": {
   "display_name": "Python 3 (ipykernel)",
   "language": "python",
   "name": "python3"
  },
  "language_info": {
   "codemirror_mode": {
    "name": "ipython",
    "version": 3
   },
   "file_extension": ".py",
   "mimetype": "text/x-python",
   "name": "python",
   "nbconvert_exporter": "python",
   "pygments_lexer": "ipython3",
   "version": "3.11.7"
  }
 },
 "nbformat": 4,
 "nbformat_minor": 5
}
