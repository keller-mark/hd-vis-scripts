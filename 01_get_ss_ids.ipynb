{
 "cells": [
  {
   "cell_type": "code",
   "execution_count": 84,
   "id": "d56fe130-e7f7-4656-8776-38b142a517dd",
   "metadata": {},
   "outputs": [],
   "source": [
    "import pandas as pd\n",
    "import numpy as np\n",
    "from os.path import join\n",
    "import requests"
   ]
  },
  {
   "cell_type": "code",
   "execution_count": 85,
   "id": "fc3721ea-ed4a-4202-8f8d-1dbb4479b24b",
   "metadata": {},
   "outputs": [],
   "source": [
    "df = pd.read_csv(\"data/dr_algorithms.csv\")"
   ]
  },
  {
   "cell_type": "code",
   "execution_count": 86,
   "id": "ff01a0eb-c39f-4dd8-a009-0959cb9025b4",
   "metadata": {},
   "outputs": [],
   "source": [
    "doi_col_1 = 'DOI or ISBN for method'\n",
    "doi_col_2 = 'Secondary DOI'\n",
    "doi_col_3 = 'Tertiary DOI'\n",
    "isbn_col = 'ISBN'\n",
    "ss_col = 'Semantic Scholar ID'\n",
    "\n",
    "title_col = 'Title of method'\n",
    "year_col = 'Year of method'\n",
    "author_col = 'Authors of method'"
   ]
  },
  {
   "cell_type": "code",
   "execution_count": 87,
   "id": "25a66277-f847-45ed-b75f-03fe8ba977de",
   "metadata": {},
   "outputs": [],
   "source": [
    "df['Exclude'] = df['Notes'].apply(lambda val: \"exclude\" in str(val).lower())\n",
    "df = df.loc[~df['Exclude']]"
   ]
  },
  {
   "cell_type": "code",
   "execution_count": 88,
   "id": "da3b4dc0-8720-49b4-a363-587393eb4b46",
   "metadata": {},
   "outputs": [],
   "source": [
    "out_df = pd.DataFrame(columns=['acronym', 'doi', 'ss_id'], index=[], data=[])"
   ]
  },
  {
   "cell_type": "code",
   "execution_count": 89,
   "id": "d66ed2c8-89c0-4b90-9ed8-acaf392a272c",
   "metadata": {},
   "outputs": [],
   "source": [
    "for row_i, row in df.iterrows():\n",
    "    doi_1 = row[doi_col_1]\n",
    "    doi_2 = row[doi_col_2]\n",
    "    doi_3 = row[doi_col_3]\n",
    "    "
   ]
  },
  {
   "cell_type": "code",
   "execution_count": 90,
   "id": "06d78787-8839-467b-9e5a-bf055a2c0435",
   "metadata": {},
   "outputs": [
    {
     "data": {
      "text/plain": [
       "['Acronym',\n",
       " 'Name',\n",
       " 'DOI or ISBN for method',\n",
       " 'Secondary DOI',\n",
       " 'Tertiary DOI',\n",
       " 'Semantic Scholar ID',\n",
       " 'ISBN',\n",
       " 'Notes',\n",
       " 'Authors of method',\n",
       " 'Title of method',\n",
       " 'Year of method',\n",
       " 'Citation count for method',\n",
       " 'Source',\n",
       " 'Exclude']"
      ]
     },
     "execution_count": 90,
     "metadata": {},
     "output_type": "execute_result"
    }
   ],
   "source": [
    "df.columns.tolist()"
   ]
  },
  {
   "cell_type": "code",
   "execution_count": 91,
   "id": "79ccd1ae-a9e9-4026-b934-e0a791ff9335",
   "metadata": {},
   "outputs": [
    {
     "data": {
      "text/html": [
       "<div>\n",
       "<style scoped>\n",
       "    .dataframe tbody tr th:only-of-type {\n",
       "        vertical-align: middle;\n",
       "    }\n",
       "\n",
       "    .dataframe tbody tr th {\n",
       "        vertical-align: top;\n",
       "    }\n",
       "\n",
       "    .dataframe thead th {\n",
       "        text-align: right;\n",
       "    }\n",
       "</style>\n",
       "<table border=\"1\" class=\"dataframe\">\n",
       "  <thead>\n",
       "    <tr style=\"text-align: right;\">\n",
       "      <th></th>\n",
       "      <th>Acronym</th>\n",
       "      <th>Name</th>\n",
       "      <th>DOI or ISBN for method</th>\n",
       "      <th>Secondary DOI</th>\n",
       "      <th>Tertiary DOI</th>\n",
       "      <th>Semantic Scholar ID</th>\n",
       "      <th>ISBN</th>\n",
       "      <th>Notes</th>\n",
       "      <th>Authors of method</th>\n",
       "      <th>Title of method</th>\n",
       "      <th>Year of method</th>\n",
       "      <th>Citation count for method</th>\n",
       "      <th>Source</th>\n",
       "      <th>Exclude</th>\n",
       "    </tr>\n",
       "  </thead>\n",
       "  <tbody>\n",
       "    <tr>\n",
       "      <th>0</th>\n",
       "      <td>AE</td>\n",
       "      <td>Autoencoder</td>\n",
       "      <td>10.1126/science.1127647</td>\n",
       "      <td>NaN</td>\n",
       "      <td>NaN</td>\n",
       "      <td>02552a8b40f3a82a5353f596264db71d899a9b4a</td>\n",
       "      <td>NaN</td>\n",
       "      <td>NaN</td>\n",
       "      <td>NaN</td>\n",
       "      <td>NaN</td>\n",
       "      <td>NaN</td>\n",
       "      <td>NaN</td>\n",
       "      <td>Espadoto et al.</td>\n",
       "      <td>False</td>\n",
       "    </tr>\n",
       "    <tr>\n",
       "      <th>1</th>\n",
       "      <td>CCA</td>\n",
       "      <td>Canonical correlation analysis</td>\n",
       "      <td>10.1037/0033-2909.85.2.410</td>\n",
       "      <td>NaN</td>\n",
       "      <td>NaN</td>\n",
       "      <td>NaN</td>\n",
       "      <td>NaN</td>\n",
       "      <td>NaN</td>\n",
       "      <td>NaN</td>\n",
       "      <td>NaN</td>\n",
       "      <td>NaN</td>\n",
       "      <td>NaN</td>\n",
       "      <td>Espadoto et al.</td>\n",
       "      <td>False</td>\n",
       "    </tr>\n",
       "    <tr>\n",
       "      <th>2</th>\n",
       "      <td>CHL</td>\n",
       "      <td>Chalmers</td>\n",
       "      <td>10.1109/VISUAL.1996.567787</td>\n",
       "      <td>NaN</td>\n",
       "      <td>NaN</td>\n",
       "      <td>NaN</td>\n",
       "      <td>NaN</td>\n",
       "      <td>NaN</td>\n",
       "      <td>NaN</td>\n",
       "      <td>NaN</td>\n",
       "      <td>NaN</td>\n",
       "      <td>NaN</td>\n",
       "      <td>Espadoto et al.</td>\n",
       "      <td>False</td>\n",
       "    </tr>\n",
       "    <tr>\n",
       "      <th>3</th>\n",
       "      <td>CLM</td>\n",
       "      <td>ClassiMap</td>\n",
       "      <td>10.1142/S0218001415510088</td>\n",
       "      <td>NaN</td>\n",
       "      <td>NaN</td>\n",
       "      <td>NaN</td>\n",
       "      <td>NaN</td>\n",
       "      <td>NaN</td>\n",
       "      <td>NaN</td>\n",
       "      <td>NaN</td>\n",
       "      <td>NaN</td>\n",
       "      <td>NaN</td>\n",
       "      <td>Espadoto et al.</td>\n",
       "      <td>False</td>\n",
       "    </tr>\n",
       "    <tr>\n",
       "      <th>4</th>\n",
       "      <td>CuCA</td>\n",
       "      <td>Curvilinear component analysis</td>\n",
       "      <td>10.1109/72.554199</td>\n",
       "      <td>NaN</td>\n",
       "      <td>NaN</td>\n",
       "      <td>NaN</td>\n",
       "      <td>NaN</td>\n",
       "      <td>NaN</td>\n",
       "      <td>NaN</td>\n",
       "      <td>NaN</td>\n",
       "      <td>NaN</td>\n",
       "      <td>NaN</td>\n",
       "      <td>Espadoto et al.</td>\n",
       "      <td>False</td>\n",
       "    </tr>\n",
       "  </tbody>\n",
       "</table>\n",
       "</div>"
      ],
      "text/plain": [
       "  Acronym                            Name      DOI or ISBN for method  \\\n",
       "0      AE                     Autoencoder     10.1126/science.1127647   \n",
       "1     CCA  Canonical correlation analysis  10.1037/0033-2909.85.2.410   \n",
       "2     CHL                        Chalmers  10.1109/VISUAL.1996.567787   \n",
       "3     CLM                       ClassiMap   10.1142/S0218001415510088   \n",
       "4    CuCA  Curvilinear component analysis           10.1109/72.554199   \n",
       "\n",
       "  Secondary DOI Tertiary DOI                       Semantic Scholar ID ISBN  \\\n",
       "0           NaN          NaN  02552a8b40f3a82a5353f596264db71d899a9b4a  NaN   \n",
       "1           NaN          NaN                                       NaN  NaN   \n",
       "2           NaN          NaN                                       NaN  NaN   \n",
       "3           NaN          NaN                                       NaN  NaN   \n",
       "4           NaN          NaN                                       NaN  NaN   \n",
       "\n",
       "  Notes Authors of method Title of method  Year of method  \\\n",
       "0   NaN               NaN             NaN             NaN   \n",
       "1   NaN               NaN             NaN             NaN   \n",
       "2   NaN               NaN             NaN             NaN   \n",
       "3   NaN               NaN             NaN             NaN   \n",
       "4   NaN               NaN             NaN             NaN   \n",
       "\n",
       "   Citation count for method           Source  Exclude  \n",
       "0                        NaN  Espadoto et al.    False  \n",
       "1                        NaN  Espadoto et al.    False  \n",
       "2                        NaN  Espadoto et al.    False  \n",
       "3                        NaN  Espadoto et al.    False  \n",
       "4                        NaN  Espadoto et al.    False  "
      ]
     },
     "execution_count": 91,
     "metadata": {},
     "output_type": "execute_result"
    }
   ],
   "source": [
    "df.head()"
   ]
  },
  {
   "cell_type": "code",
   "execution_count": 112,
   "id": "29da3bff-9438-4f51-b7c8-7345c4fd4bca",
   "metadata": {},
   "outputs": [],
   "source": [
    "wide_df = df[['Acronym', doi_col_1, doi_col_2, doi_col_3, ss_col]]"
   ]
  },
  {
   "cell_type": "code",
   "execution_count": 113,
   "id": "639c7bd5-ac98-401f-a546-bae2778b79d3",
   "metadata": {},
   "outputs": [
    {
     "data": {
      "text/html": [
       "<div>\n",
       "<style scoped>\n",
       "    .dataframe tbody tr th:only-of-type {\n",
       "        vertical-align: middle;\n",
       "    }\n",
       "\n",
       "    .dataframe tbody tr th {\n",
       "        vertical-align: top;\n",
       "    }\n",
       "\n",
       "    .dataframe thead th {\n",
       "        text-align: right;\n",
       "    }\n",
       "</style>\n",
       "<table border=\"1\" class=\"dataframe\">\n",
       "  <thead>\n",
       "    <tr style=\"text-align: right;\">\n",
       "      <th></th>\n",
       "      <th>Acronym</th>\n",
       "      <th>variable</th>\n",
       "      <th>value</th>\n",
       "    </tr>\n",
       "  </thead>\n",
       "  <tbody>\n",
       "    <tr>\n",
       "      <th>0</th>\n",
       "      <td>AE</td>\n",
       "      <td>DOI or ISBN for method</td>\n",
       "      <td>10.1126/science.1127647</td>\n",
       "    </tr>\n",
       "    <tr>\n",
       "      <th>1</th>\n",
       "      <td>CCA</td>\n",
       "      <td>DOI or ISBN for method</td>\n",
       "      <td>10.1037/0033-2909.85.2.410</td>\n",
       "    </tr>\n",
       "    <tr>\n",
       "      <th>2</th>\n",
       "      <td>CHL</td>\n",
       "      <td>DOI or ISBN for method</td>\n",
       "      <td>10.1109/VISUAL.1996.567787</td>\n",
       "    </tr>\n",
       "    <tr>\n",
       "      <th>3</th>\n",
       "      <td>CLM</td>\n",
       "      <td>DOI or ISBN for method</td>\n",
       "      <td>10.1142/S0218001415510088</td>\n",
       "    </tr>\n",
       "    <tr>\n",
       "      <th>4</th>\n",
       "      <td>CuCA</td>\n",
       "      <td>DOI or ISBN for method</td>\n",
       "      <td>10.1109/72.554199</td>\n",
       "    </tr>\n",
       "    <tr>\n",
       "      <th>...</th>\n",
       "      <td>...</td>\n",
       "      <td>...</td>\n",
       "      <td>...</td>\n",
       "    </tr>\n",
       "    <tr>\n",
       "      <th>105</th>\n",
       "      <td>SDR</td>\n",
       "      <td>Semantic Scholar ID</td>\n",
       "      <td>02b8ee23d604da1271d6af0cbd08c8c0db2098bb</td>\n",
       "    </tr>\n",
       "    <tr>\n",
       "      <th>106</th>\n",
       "      <td>SMA</td>\n",
       "      <td>Semantic Scholar ID</td>\n",
       "      <td>45e288d93a674b10009ff0be9b7848b8d22493c8</td>\n",
       "    </tr>\n",
       "    <tr>\n",
       "      <th>107</th>\n",
       "      <td>SNE</td>\n",
       "      <td>Semantic Scholar ID</td>\n",
       "      <td>14d46c6396837986bb4b9a14024cb64797b8c6c0</td>\n",
       "    </tr>\n",
       "    <tr>\n",
       "      <th>108</th>\n",
       "      <td>T-SNE</td>\n",
       "      <td>Semantic Scholar ID</td>\n",
       "      <td>1c46943103bd7b7a2c7be86859995a4144d1938b</td>\n",
       "    </tr>\n",
       "    <tr>\n",
       "      <th>109</th>\n",
       "      <td>TF</td>\n",
       "      <td>Semantic Scholar ID</td>\n",
       "      <td>c5b28cae82b14417f1250e58bb241367248e827d</td>\n",
       "    </tr>\n",
       "  </tbody>\n",
       "</table>\n",
       "<p>110 rows × 3 columns</p>\n",
       "</div>"
      ],
      "text/plain": [
       "    Acronym                variable                                     value\n",
       "0        AE  DOI or ISBN for method                   10.1126/science.1127647\n",
       "1       CCA  DOI or ISBN for method                10.1037/0033-2909.85.2.410\n",
       "2       CHL  DOI or ISBN for method                10.1109/VISUAL.1996.567787\n",
       "3       CLM  DOI or ISBN for method                 10.1142/S0218001415510088\n",
       "4      CuCA  DOI or ISBN for method                         10.1109/72.554199\n",
       "..      ...                     ...                                       ...\n",
       "105     SDR     Semantic Scholar ID  02b8ee23d604da1271d6af0cbd08c8c0db2098bb\n",
       "106     SMA     Semantic Scholar ID  45e288d93a674b10009ff0be9b7848b8d22493c8\n",
       "107     SNE     Semantic Scholar ID  14d46c6396837986bb4b9a14024cb64797b8c6c0\n",
       "108   T-SNE     Semantic Scholar ID  1c46943103bd7b7a2c7be86859995a4144d1938b\n",
       "109      TF     Semantic Scholar ID  c5b28cae82b14417f1250e58bb241367248e827d\n",
       "\n",
       "[110 rows x 3 columns]"
      ]
     },
     "execution_count": 113,
     "metadata": {},
     "output_type": "execute_result"
    }
   ],
   "source": [
    "narrow_df = wide_df.melt(id_vars='Acronym').dropna(subset=['value'])\n",
    "narrow_df = narrow_df.reset_index(drop=True)\n",
    "narrow_df"
   ]
  },
  {
   "cell_type": "code",
   "execution_count": 114,
   "id": "121d904e-37c3-44f1-938e-84cfd6fddaad",
   "metadata": {},
   "outputs": [],
   "source": [
    "def get_ss_query_val(row):\n",
    "    if row['variable'] == ss_col:\n",
    "        return row['value']\n",
    "    doi_val = row['value']\n",
    "    doi_lower = doi_val.lower()\n",
    "    if 'arxiv' in doi_lower:\n",
    "        query_val = f\"arXiv:{doi_val[doi_lower.index('arxiv')+6:]}\"\n",
    "    else:\n",
    "        query_val = doi_val\n",
    "\n",
    "    return query_val"
   ]
  },
  {
   "cell_type": "code",
   "execution_count": 115,
   "id": "19229cd5-3fa0-4f97-9268-860fb0749f7a",
   "metadata": {},
   "outputs": [],
   "source": [
    "narrow_df['query_val'] = narrow_df.apply(get_ss_query_val, axis='columns')"
   ]
  },
  {
   "cell_type": "code",
   "execution_count": 116,
   "id": "45d31060-8711-46ca-acb7-de1a0a4a9bd4",
   "metadata": {},
   "outputs": [],
   "source": [
    "narrow_df['ss_id'] = np.nan"
   ]
  },
  {
   "cell_type": "code",
   "execution_count": 117,
   "id": "1f1ecf31-0b45-464e-a4d5-96a9a9d715a3",
   "metadata": {},
   "outputs": [],
   "source": [
    "paper_query_vals = narrow_df['query_val'].tolist()"
   ]
  },
  {
   "cell_type": "code",
   "execution_count": 118,
   "id": "73ce3817-326d-4f33-9c71-a3c330c4e11a",
   "metadata": {},
   "outputs": [],
   "source": [
    "r_ids = requests.post(\n",
    "    'https://api.semanticscholar.org/graph/v1/paper/batch',\n",
    "    params={'fields': 'citationCount,title'},\n",
    "    json={\"ids\": paper_query_vals}\n",
    ")"
   ]
  },
  {
   "cell_type": "code",
   "execution_count": 119,
   "id": "ac33d185-1dcf-4c55-9bf0-83429aa098dc",
   "metadata": {},
   "outputs": [],
   "source": [
    "response_vals = r_ids.json()"
   ]
  },
  {
   "cell_type": "code",
   "execution_count": 120,
   "id": "fc97fbe3-9337-4077-b7f9-d04dc7b711d1",
   "metadata": {},
   "outputs": [
    {
     "name": "stderr",
     "output_type": "stream",
     "text": [
      "/var/folders/36/83j6x3ln225bvbpk1_vdzrm00000gn/T/ipykernel_79560/2781488457.py:3: FutureWarning: Setting an item of incompatible dtype is deprecated and will raise in a future error of pandas. Value '085049bec04020baecdb17bec196442a4abaedab' has dtype incompatible with float64, please explicitly cast to a compatible dtype first.\n",
      "  narrow_df.at[i, 'ss_id'] = r_val['paperId']\n"
     ]
    }
   ],
   "source": [
    "for i, r_val in enumerate(response_vals):\n",
    "    if r_val is not None:\n",
    "        narrow_df.at[i, 'ss_id'] = r_val['paperId']"
   ]
  },
  {
   "cell_type": "code",
   "execution_count": 121,
   "id": "dce31365-13d7-4f2d-9658-1d3b283b93e6",
   "metadata": {},
   "outputs": [],
   "source": [
    "# Assume we have manually identified SS IDs for DOIs that return None\n",
    "narrow_df = narrow_df.dropna(subset=['ss_id'])"
   ]
  },
  {
   "cell_type": "code",
   "execution_count": 122,
   "id": "bf569034-df52-4d1c-ae96-7b70079087c8",
   "metadata": {},
   "outputs": [],
   "source": [
    "narrow_df.to_csv('data/ss_id.csv')"
   ]
  },
  {
   "cell_type": "code",
   "execution_count": null,
   "id": "f36859c5-9eaf-4a17-8fd2-7486169f7b6d",
   "metadata": {},
   "outputs": [],
   "source": []
  },
  {
   "cell_type": "code",
   "execution_count": null,
   "id": "0d40481c-444b-42f0-90ca-99143de4c1be",
   "metadata": {},
   "outputs": [],
   "source": []
  },
  {
   "cell_type": "code",
   "execution_count": null,
   "id": "88236477-dffe-4a2f-98b8-0d6e4f9926df",
   "metadata": {},
   "outputs": [],
   "source": []
  }
 ],
 "metadata": {
  "kernelspec": {
   "display_name": "Python 3 (ipykernel)",
   "language": "python",
   "name": "python3"
  },
  "language_info": {
   "codemirror_mode": {
    "name": "ipython",
    "version": 3
   },
   "file_extension": ".py",
   "mimetype": "text/x-python",
   "name": "python",
   "nbconvert_exporter": "python",
   "pygments_lexer": "ipython3",
   "version": "3.11.6"
  }
 },
 "nbformat": 4,
 "nbformat_minor": 5
}
