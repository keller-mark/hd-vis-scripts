{
 "cells": [
  {
   "cell_type": "code",
   "execution_count": 1,
   "id": "ba4831dc-3700-4184-a9a7-0637ebe2ebab",
   "metadata": {},
   "outputs": [],
   "source": [
    "from os.path import join\n",
    "import pandas as pd\n",
    "import numpy as np"
   ]
  },
  {
   "cell_type": "code",
   "execution_count": 2,
   "id": "6547d537-a8c7-4f03-86ae-e4004fbf8686",
   "metadata": {},
   "outputs": [],
   "source": [
    "queries_dir = join(\"data\", \"queries\")"
   ]
  },
  {
   "cell_type": "code",
   "execution_count": 3,
   "id": "887de2f9-12cb-4cc6-86a8-5066af0cce4e",
   "metadata": {},
   "outputs": [],
   "source": [
    "cc_df = pd.read_csv(join(queries_dir, \"q02_get_field_year_percentiles.csv\"), index_col=0)"
   ]
  },
  {
   "cell_type": "code",
   "execution_count": 4,
   "id": "7b3eafc5-877b-4e5b-88be-f01861e517ba",
   "metadata": {},
   "outputs": [],
   "source": [
    "cc_df[\"percent_including_row\"] = np.nan\n",
    "cc_df[\"percent_excluding_row\"] = np.nan\n",
    "cc_df[\"cp_in\"] = np.nan\n",
    "cc_df[\"cp_ex\"] = np.nan"
   ]
  },
  {
   "cell_type": "code",
   "execution_count": 5,
   "id": "00c877bd-0031-4e10-b961-99b0d40a27e7",
   "metadata": {},
   "outputs": [],
   "source": [
    "for (source, field, year), group_df in cc_df.groupby([\"source\", \"field\", \"year\"]):\n",
    "    total_num_papers = group_df[\"paper_count\"].sum()\n",
    "    cum_pct_in = 0.0\n",
    "    cum_pct_ex = 0.0\n",
    "    pct_excl_row = 0.0\n",
    "    for group_row_i, row in group_df.sort_values(by=\"citation_count\").reset_index().iterrows():\n",
    "        global_row_i = row[\"index\"]\n",
    "        pct_incl_row = row[\"paper_count\"] / total_num_papers * 100\n",
    "        cum_pct_in += pct_incl_row\n",
    "        \n",
    "        cc_df.at[global_row_i, \"percent_including_row\"] = pct_incl_row\n",
    "        cc_df.at[global_row_i, \"percent_excluding_row\"] = pct_excl_row\n",
    "        cc_df.at[global_row_i, \"cp_in\"] = cum_pct_in\n",
    "        cc_df.at[global_row_i, \"cp_ex\"] = cum_pct_ex\n",
    "       \n",
    "        cum_pct_ex += pct_incl_row\n",
    "        pct_excl_row = pct_incl_row"
   ]
  },
  {
   "cell_type": "code",
   "execution_count": 6,
   "id": "51c85df9-4291-42cd-b120-0d277f7afbb0",
   "metadata": {},
   "outputs": [],
   "source": [
    "cc_df.to_csv(join(queries_dir, \"cumulative_frequencies.csv\"))"
   ]
  },
  {
   "cell_type": "code",
   "execution_count": 7,
   "id": "09f2966d-0a13-42f4-ad9d-f8e7284ebc77",
   "metadata": {},
   "outputs": [],
   "source": [
    "cc_df.groupby([\"source\", \"field\", \"year\"]).sum()[[\"paper_count\"]].reset_index().to_csv(join(queries_dir, \"paper_counts.csv\"))"
   ]
  },
  {
   "cell_type": "code",
   "execution_count": null,
   "id": "9b8a58e4-fc8d-43cd-b5c0-ecf94605afb2",
   "metadata": {},
   "outputs": [],
   "source": []
  }
 ],
 "metadata": {
  "kernelspec": {
   "display_name": "Python 3 (ipykernel)",
   "language": "python",
   "name": "python3"
  },
  "language_info": {
   "codemirror_mode": {
    "name": "ipython",
    "version": 3
   },
   "file_extension": ".py",
   "mimetype": "text/x-python",
   "name": "python",
   "nbconvert_exporter": "python",
   "pygments_lexer": "ipython3",
   "version": "3.11.7"
  }
 },
 "nbformat": 4,
 "nbformat_minor": 5
}
